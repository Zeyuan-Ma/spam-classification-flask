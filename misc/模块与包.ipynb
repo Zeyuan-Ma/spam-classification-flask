{
 "cells": [
  {
   "metadata": {},
   "cell_type": "markdown",
   "source": "# 1. os模块",
   "id": "9c3408c40f79852a"
  },
  {
   "cell_type": "code",
   "execution_count": null,
   "id": "initial_id",
   "metadata": {
    "collapsed": true
   },
   "outputs": [],
   "source": [
    "'''\n",
    "Operating System： 系统模块, 主要是操作 文件夹, 文件, 路径等的，属于第三方的包\n",
    "\n",
    "基本函数:\n",
    "    getcwd()    获取当前的工作空间目录(相对路径时) current work directory: 当前工作目录\n",
    "    chdir()     改变工作空间路径.  change directory\n",
    "    rmdir()     删除文件夹, 必须是空文件夹 remove directory\n",
    "    mkdir()     制作文件夹.   make directory\n",
    "    rename()    改名, 文件名 或者 文件夹名均可.\n",
    "    listdir()   获取指定目录下 所有的子级文件或者文件夹，以列表形式返回\n",
    "                不包括子级的子级，且可以获取隐藏的文件\n",
    "合并字符串为路径：\n",
    "    写项目路径时会用，这样无论是在 Windows 开发，还是把项目迁移到 Linux 服务器训练，都不会因为路径分隔符不同而出错\n",
    "    path = os.path.join(\"folder\", \"subfolder\", \"file.txt\")\n",
    "    # Windows 输出：folder\\subfolder\\file.txt\n",
    "    # Linux/macOS 输出：folder/subfolder/file.txt\n",
    "\n",
    "把当前工作目录切换到脚本所在的目录：\n",
    "    os.chdir(os.path.dirname(os.path.abspath(__file__)))\n",
    "    __file__：代表当前 Python 脚本的路径（例如 D:/project/main.py）。\n",
    "    os.path.abspath(__file__)：把 __file__ 转换成绝对路径，即完整路径。\n",
    "    os.path.dirname(...)：取出路径的目录部分，去掉文件名 D:/project/main.py → D:/project\n",
    "    os.chdir(...): 切换当前工作目录到指定路径。\n",
    "'''"
   ]
  },
  {
   "metadata": {
    "ExecuteTime": {
     "end_time": "2025-08-26T12:02:40.690237Z",
     "start_time": "2025-08-26T12:02:40.686125Z"
    }
   },
   "cell_type": "code",
   "source": "import os # 导入模块",
   "id": "96dd3316852172c1",
   "outputs": [],
   "execution_count": 1
  },
  {
   "metadata": {},
   "cell_type": "code",
   "source": [
    "# 基本函数\n",
    "os.mkdir('aa')  # 如果不存在就创建aa文件夹, 存在就报错.\n",
    "os.rmdir('aa')  # 只能删除空文件夹\n",
    "os.rename('aa', 'bb') # 修改文件夹名为bb\n",
    "os.rename('1.txt', '2.txt') # 修改文件名为 2.txt\n",
    "file_list = os.listdir('d:/') #获取d盘下所有的文件(夹)目录\n",
    "print(file_list)"
   ],
   "id": "bbbfd67e20d74502",
   "outputs": [],
   "execution_count": null
  },
  {
   "metadata": {},
   "cell_type": "code",
   "outputs": [],
   "execution_count": null,
   "source": [
    "# 合并字符串为路径\n",
    "os.chdir(r'M:\\Learning\\Notes\\CS\\misc\\Test\\Test-py\\test1-vscode')    # 切换当前目录\n",
    "os.getcwd()      # 获取当前工作目录\n",
    "path = os.path.join(\"folder\", \"subfolder\", \"file.txt\")\n",
    "print(path)"
   ],
   "id": "9a0206d9d469c993"
  },
  {
   "metadata": {},
   "cell_type": "code",
   "source": [
    "# 把当前工作目录切换到脚本所在的目录 只能在.py文件运行，jupyter没有__file__\n",
    "print(__file__)\n",
    "print(os.path.abspath(__file__))\n",
    "print(os.path.dirname(os.path.abspath(__file__)))\n",
    "print(os.chdir(os.path.dirname(os.path.abspath(__file__))))"
   ],
   "id": "194569c271e40408",
   "outputs": [],
   "execution_count": null
  }
 ],
 "metadata": {
  "kernelspec": {
   "display_name": "Python 3",
   "language": "python",
   "name": "python3"
  },
  "language_info": {
   "codemirror_mode": {
    "name": "ipython",
    "version": 2
   },
   "file_extension": ".py",
   "mimetype": "text/x-python",
   "name": "python",
   "nbconvert_exporter": "python",
   "pygments_lexer": "ipython2",
   "version": "2.7.6"
  }
 },
 "nbformat": 4,
 "nbformat_minor": 5
}
