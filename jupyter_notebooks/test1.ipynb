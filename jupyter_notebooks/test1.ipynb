{
 "cells": [
  {
   "cell_type": "code",
   "execution_count": null,
   "id": "initial_id",
   "metadata": {
    "collapsed": true
   },
   "outputs": [],
   "source": [
    ""
   ]
  },
  {
   "metadata": {
    "ExecuteTime": {
     "end_time": "2025-08-27T09:48:50.051436Z",
     "start_time": "2025-08-27T09:48:50.047021Z"
    }
   },
   "cell_type": "code",
   "source": [
    "data = '''Received: from sea.net.edu.cn ([202.112.5.66])\n",
    "\tby spam-gw.ccert.edu.cn (MIMEDefang) with ESMTP id j826MNsm028905\n",
    "\tfor <kong@ccert.edu.cn>; Sun, 4 Sep 2005 07:33:38 +0800 (CST)\n",
    "Received: from mail.tsinghua.edu.cn (mail.tsinghua.edu.cn [166.111.8.18])\n",
    "\tby sea.net.edu.cn (8.12.11/8.12.11) with SMTP id j826YvNG017832\n",
    "\tfor <kong@ccert.edu.cn>; Sun, 4 Sep 2005 07:46:08 +0800 (CST)\n",
    "Received: from unknown (HELO hotline) (usstest@166.111.125.120)\n",
    "  by localhost with SMTP; Sat, 3 Sep 2005 23:34:19 -0000\n",
    "Message-ID: <00b101c5af87$e9547800$787d6fa6@hotline>\n",
    "From: \"\"cen\"\" <cen@mail.tsinghua.edu.cn>\n",
    "To: kong@ccert.edu.cn\n",
    "Subject: =?gb2312?B?ofEg1fe3vbC4?=\n",
    "Date: Sun, 4 Sep 2005 07:42:22 +0800\n",
    "MIME-Version: 1.0\n",
    "Content-Type: multipart/alternative;\n",
    "\tboundary=\"\"----=_NextPart_000_00AE_01C5AFCA.F7623430\"\"\n",
    "X-Priority: 3\n",
    "X-MSMail-Priority: Normal\n",
    "X-Mailer: Microsoft Outlook Express 6.00.2800.1506\n",
    "X-MimeOLE: Produced By Microsoft MimeOLE V6.00.2800.1506\n",
    "\n",
    "   前几天和gg闹矛盾,我胡闹了很久,以前我即使是不道慊,gg也从来都是原谅我,但是这次我可能真的是闹的过头了,惹的gg怎么也不放过我,说让我做三件事才可以原谅.\n",
    "   一好说了,可是二和三我就不知道怎么办了.....二是让我写一份深刻的检讨.三是让我做一件让他感动的事情.\n",
    "   我是那种自己有再多的错误也不愿意丢下面子去道慊的人,让我写检讨我感觉自己怎么就是不愿意让自己去写,就是写估计也是充满怨气的;三就更难了.....\n",
    "   gg说了,让我做好了三件事情他才能消气,我该咋办呢?\n",
    "值得一提的是以前我让gg写过n多的检讨,他都答应到了,可以是份也没给我.....\n",
    "各位xdjm,给我出个注意,小女子在此谢过了.....\n",
    "'''"
   ],
   "id": "a441d24709198817",
   "outputs": [],
   "execution_count": 1
  },
  {
   "metadata": {
    "ExecuteTime": {
     "end_time": "2025-08-27T09:49:21.230383Z",
     "start_time": "2025-08-27T09:49:21.210616Z"
    }
   },
   "cell_type": "code",
   "source": "",
   "id": "428761c7a4368252",
   "outputs": [
    {
     "name": "stdout",
     "output_type": "stream",
     "text": [
      "胡闹 是 不道 是 原谅 可能 是 闹 过头 了惹 说 让 做 事 原谅 说 知道 是 让 写 检讨 是 让 做 让 感动 事情 是 有 错误 愿意 丢下 面子 去 人 让 写 检讨 感觉 愿意 让 去 写 写 估计 是 充满 怨气 难 说 让 做好 事情 才能 消气 咋办 让 写 检讨 答应 到 是 出 注意 小女子 谢\n"
     ]
    }
   ],
   "execution_count": 3
  },
  {
   "metadata": {},
   "cell_type": "code",
   "outputs": [],
   "execution_count": null,
   "source": "\n",
   "id": "554c7b7c447f3a71"
  }
 ],
 "metadata": {
  "kernelspec": {
   "display_name": "Python 3",
   "language": "python",
   "name": "python3"
  },
  "language_info": {
   "codemirror_mode": {
    "name": "ipython",
    "version": 2
   },
   "file_extension": ".py",
   "mimetype": "text/x-python",
   "name": "python",
   "nbconvert_exporter": "python",
   "pygments_lexer": "ipython2",
   "version": "2.7.6"
  }
 },
 "nbformat": 4,
 "nbformat_minor": 5
}
